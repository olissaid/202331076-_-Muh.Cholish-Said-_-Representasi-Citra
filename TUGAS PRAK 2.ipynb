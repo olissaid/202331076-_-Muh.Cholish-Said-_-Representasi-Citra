{
 "cells": [
  {
   "cell_type": "code",
   "execution_count": 1,
   "id": "aa58ecdb-62bb-4a20-a8b5-962812ca3f01",
   "metadata": {},
   "outputs": [],
   "source": [
    "import cv2\n",
    "import numpy as np\n",
    "#MUH.CHOLISH SAID_202331076"
   ]
  },
  {
   "cell_type": "code",
   "execution_count": 2,
   "id": "53a7b1ba-5a15-4f35-be2c-3591dd2c640d",
   "metadata": {},
   "outputs": [],
   "source": [
    "citra = cv2.imread('buah.jpg')  \n",
    "#MUH.CHOLISH SAID_202331076"
   ]
  },
  {
   "cell_type": "code",
   "execution_count": 3,
   "id": "2ebca8f4-f4a6-4719-9356-c0fa7ea863ff",
   "metadata": {},
   "outputs": [],
   "source": [
    "cv2.imshow(\"citra asli\", citra)\n",
    "cv2.waitKey(10000)\n",
    "cv2.destroyAllWindows()\n",
    "#MUH.CHOLISH SAID_202331076"
   ]
  },
  {
   "cell_type": "code",
   "execution_count": 4,
   "id": "1c345cf3-1845-4e8a-ab8c-bb898193a795",
   "metadata": {},
   "outputs": [
    {
     "name": "stdout",
     "output_type": "stream",
     "text": [
      "(416, 612, 3)\n",
      "uint8\n"
     ]
    }
   ],
   "source": [
    "print(citra.shape)\n",
    "print(citra.dtype)\n",
    "#MUH.CHOLISH SAID_202331076"
   ]
  },
  {
   "cell_type": "code",
   "execution_count": 5,
   "id": "88034b41-5ec1-47e0-9b87-393a40e6260a",
   "metadata": {},
   "outputs": [],
   "source": [
    "b = citra [:,:,0]\n",
    "g = citra [:,:,1]\n",
    "r = citra [:,:,2]\n",
    "#MUH.CHOLISH SAID_202331076"
   ]
  },
  {
   "cell_type": "code",
   "execution_count": 7,
   "id": "91be7174-d96d-4a29-a6fe-a022174f25ab",
   "metadata": {},
   "outputs": [],
   "source": [
    "panjang = len(citra) #menghitung baris\n",
    "lebar = len (citra[0]) #menghitung kolom\n",
    "\n",
    "citra_gray = np.zeros((panjang,lebar))\n",
    "\n",
    "for i in range (panjang):\n",
    "    for j in range (lebar) :\n",
    "        citra_gray[i,j] = 0.2989 * r[i,j] + 0.587 * g[i,j] + 0.1141 *b[i,j] \n",
    "        #merah = 29,89% ; hijau = 58,7% ; biru 11,41%\n",
    "\n",
    "citra_gray = citra_gray.astype(np.uint8)\n",
    "\n",
    "cv2.imshow(\"citra grayscale\", citra_gray)\n",
    "cv2.waitKey()\n",
    "cv2.destroyAllWindows()\n",
    "#MUH.CHOLISH SAID_202331076"
   ]
  },
  {
   "cell_type": "code",
   "execution_count": 8,
   "id": "c2e879f4-d3bf-43dd-b391-866eaaf209cb",
   "metadata": {},
   "outputs": [
    {
     "name": "stdout",
     "output_type": "stream",
     "text": [
      "[[[ 96 224 255]\n",
      "  [ 78 231 252]\n",
      "  [140 224 250]\n",
      "  ...\n",
      "  [152 161 205]\n",
      "  [117 148 187]\n",
      "  [ 72 122 158]]\n",
      "\n",
      " [[ 54 217 250]\n",
      "  [ 56 227 249]\n",
      "  [137 223 253]\n",
      "  ...\n",
      "  [ 45  63  94]\n",
      "  [ 33  42  75]\n",
      "  [ 21  24  55]]\n",
      "\n",
      " [[ 22 214 251]\n",
      "  [ 38 226 254]\n",
      "  [127 227 255]\n",
      "  ...\n",
      "  [ 29  72  89]\n",
      "  [ 42  55  77]\n",
      "  [ 57  47  70]]\n",
      "\n",
      " ...\n",
      "\n",
      " [[  1 130 255]\n",
      "  [  3 132 255]\n",
      "  [  4 133 255]\n",
      "  ...\n",
      "  [ 36 172 254]\n",
      "  [ 26 168 251]\n",
      "  [ 15 165 249]]\n",
      "\n",
      " [[  0 129 254]\n",
      "  [  2 131 255]\n",
      "  [  3 132 255]\n",
      "  ...\n",
      "  [ 22 172 255]\n",
      "  [ 14 169 254]\n",
      "  [  8 167 254]]\n",
      "\n",
      " [[  0 128 253]\n",
      "  [  0 129 254]\n",
      "  [  1 130 255]\n",
      "  ...\n",
      "  [  7 171 254]\n",
      "  [  6 171 255]\n",
      "  [  7 172 255]]]\n"
     ]
    }
   ],
   "source": [
    "print (citra)\n",
    "#MUH.CHOLISH SAID_202331076"
   ]
  },
  {
   "cell_type": "code",
   "execution_count": 9,
   "id": "d11835fd-ad7c-4c59-b0ce-e523a3e9cd06",
   "metadata": {},
   "outputs": [
    {
     "name": "stdout",
     "output_type": "stream",
     "text": [
      "[[218 219 222 ... 173 156 127]\n",
      " [208 214 222 ...  70  50  32]\n",
      " [203 212 223 ...  72  60  55]\n",
      " ...\n",
      " [152 154 154 ... 180 176 172]\n",
      " [151 153 154 ... 179 176 174]\n",
      " [150 151 152 ... 177 177 177]]\n"
     ]
    }
   ],
   "source": [
    "print (citra_gray)\n",
    "#MUH.CHOLISH SAID_202331076"
   ]
  },
  {
   "cell_type": "code",
   "execution_count": 10,
   "id": "3e52acbd-6b9c-4179-90d7-3b38ffde4a72",
   "metadata": {},
   "outputs": [],
   "source": [
    "panjang = len(citra) #menghitung baris\n",
    "lebar = len (citra[0]) #menghitung kolom\n",
    "\n",
    "ambang = 90\n",
    "\n",
    "citra_biner = np.zeros((panjang,lebar))\n",
    "for i in range (panjang):\n",
    "    for j in range (lebar) :\n",
    "        if citra_gray[i,j]>= ambang:\n",
    "            citra_biner[i,j] = 1 #putih\n",
    "        else:\n",
    "            citra_biner[i,j] = 0 #putih\n",
    "cv2.imshow(\"citra binary\", citra_biner)\n",
    "cv2.waitKey()\n",
    "cv2.destroyAllWindows()\n",
    "#MUH.CHOLISH SAID_202331076"
   ]
  },
  {
   "cell_type": "code",
   "execution_count": 11,
   "id": "0536c76f-6f3a-4d24-a563-1857118c664b",
   "metadata": {},
   "outputs": [
    {
     "name": "stdout",
     "output_type": "stream",
     "text": [
      "[[1. 1. 1. ... 1. 1. 1.]\n",
      " [1. 1. 1. ... 0. 0. 0.]\n",
      " [1. 1. 1. ... 0. 0. 0.]\n",
      " ...\n",
      " [1. 1. 1. ... 1. 1. 1.]\n",
      " [1. 1. 1. ... 1. 1. 1.]\n",
      " [1. 1. 1. ... 1. 1. 1.]]\n"
     ]
    }
   ],
   "source": [
    "print (citra_biner)\n",
    "#MUH.CHOLISH SAID_202331076"
   ]
  },
  {
   "cell_type": "code",
   "execution_count": null,
   "id": "0340ffb9-cb25-4195-bef9-091ee6002d7c",
   "metadata": {},
   "outputs": [],
   "source": []
  }
 ],
 "metadata": {
  "kernelspec": {
   "display_name": "Python 3 (ipykernel)",
   "language": "python",
   "name": "python3"
  },
  "language_info": {
   "codemirror_mode": {
    "name": "ipython",
    "version": 3
   },
   "file_extension": ".py",
   "mimetype": "text/x-python",
   "name": "python",
   "nbconvert_exporter": "python",
   "pygments_lexer": "ipython3",
   "version": "3.12.4"
  }
 },
 "nbformat": 4,
 "nbformat_minor": 5
}
